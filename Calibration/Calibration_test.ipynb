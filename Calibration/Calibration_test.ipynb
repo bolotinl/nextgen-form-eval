{
 "cells": [
  {
   "cell_type": "code",
   "execution_count": 1,
   "metadata": {},
   "outputs": [],
   "source": [
    "import spotpy"
   ]
  },
  {
   "cell_type": "markdown",
   "metadata": {},
   "source": [
    "# Easy Tutorial"
   ]
  },
  {
   "cell_type": "code",
   "execution_count": 2,
   "metadata": {},
   "outputs": [],
   "source": [
    "from spotpy import analyser                                     # Load the Plotting extension \n",
    "from spotpy.examples.spot_setup_rosenbrock import spot_setup    # Import the two dimensional Rosenbrock example"
   ]
  },
  {
   "cell_type": "code",
   "execution_count": 3,
   "metadata": {},
   "outputs": [],
   "source": [
    "# Give Monte Carlo algorithm the example setup and saves results in a RosenMC.csv file\n",
    "sampler = spotpy.algorithms.dds(spot_setup(), dbname='RosenDDS', dbformat='csv')"
   ]
  },
  {
   "cell_type": "code",
   "execution_count": 4,
   "metadata": {},
   "outputs": [
    {
     "name": "stdout",
     "output_type": "stream",
     "text": [
      "Initializing the  Dynamically Dimensioned Search (DDS) algorithm  with  100000  repetitions\n",
      "The objective function will be maximized\n",
      "Starting the DDS algotrithm with 100000 repetitions...\n",
      "Finding best starting point for trial 1 using 500 random samples.\n",
      "Initialize database...\n",
      "['csv', 'hdf5', 'ram', 'sql', 'custom', 'noData']\n",
      "* Database file 'RosenDDS.csv' created.\n",
      "22761 of 100000, maximal objective function=2.42024e+06, time remaining: 00:00:07\n",
      "44546 of 100000, maximal objective function=2.42024e+06, time remaining: 00:00:05\n",
      "66308 of 100000, maximal objective function=2.42024e+06, time remaining: 00:00:03\n",
      "87979 of 100000, maximal objective function=2.42024e+06, time remaining: 00:00:01\n",
      "Best solution found has obj function value of 2420242.0 at 500\n",
      "\n",
      "\n",
      "\n",
      "*** Final SPOTPY summary ***\n",
      "Total Duration: 9.1 seconds\n",
      "Total Repetitions: 100000\n",
      "Maximal objective value: 2.42024e+06\n",
      "Corresponding parameter setting:\n",
      "x: -10\n",
      "y: -10\n",
      "z: -10\n",
      "******************************\n",
      "\n"
     ]
    }
   ],
   "source": [
    "# sample with the implemented Monte Carlo algorithm\n",
    "sampler.sample(100000)                # Sample 100,000 parameter combinations\n",
    "results=sampler.getdata()             # Get the results of the sampler"
   ]
  },
  {
   "cell_type": "code",
   "execution_count": null,
   "metadata": {},
   "outputs": [],
   "source": [
    "# what the algorithm has done during the 100.000 iterations\n",
    "spotpy.analyser.plot_parameterInteraction(results)  "
   ]
  },
  {
   "cell_type": "code",
   "execution_count": null,
   "metadata": {},
   "outputs": [],
   "source": [
    "print(spotpy.analyser.get_best_parameterset(results))"
   ]
  },
  {
   "cell_type": "markdown",
   "metadata": {},
   "source": [
    "# Link BMI_CFE with Spotpy"
   ]
  },
  {
   "cell_type": "code",
   "execution_count": 2,
   "metadata": {},
   "outputs": [],
   "source": [
    "import os\n",
    "#from netCDF4 import Dataset\n",
    "#from pathlib import Path\n",
    "import time\n",
    "import numpy as np\n",
    "import pandas as pd\n",
    "import json\n",
    "import matplotlib.pyplot as plt\n"
   ]
  },
  {
   "cell_type": "code",
   "execution_count": 3,
   "metadata": {},
   "outputs": [],
   "source": [
    "import sys\n",
    "\n",
    "import bmi_cfe\n",
    "import cfe"
   ]
  },
  {
   "cell_type": "markdown",
   "metadata": {},
   "source": [
    "## set up spotpy class"
   ]
  },
  {
   "cell_type": "code",
   "execution_count": 4,
   "metadata": {},
   "outputs": [],
   "source": [
    "class spotpy_setup(object): \n",
    "\n",
    "    def __init__(self): \n",
    "        # initialzie model and calibration parameters\n",
    "        self.params = [spotpy.parameter.Uniform('bb',0,21.94,optguess=16),\n",
    "                       spotpy.parameter.Uniform('smcmax',0.20554,1,optguess=0.439), #maybe max = 0.5\n",
    "                       spotpy.parameter.Uniform('satdk',0,0.000726,optguess=3.38e-6),\n",
    "                       spotpy.parameter.Uniform('slop',0,1,optguess=0.01),\n",
    "                       spotpy.parameter.Uniform('max_gw_storage',0.01,0.25,optguess=0.01),\n",
    "                       spotpy.parameter.Uniform('expon',1,8,optguess=6.0),\n",
    "                       spotpy.parameter.Uniform('Cgw',1.8e-6,1.8e-3),\n",
    "                       spotpy.parameter.Uniform('K_lf',0,0.1),\n",
    "                       spotpy.parameter.Uniform('K_nash',0,0.1),\n",
    "                       ]\n",
    "    \n",
    "        #Load test comparison data (direct runoff) from file ['test_compare.csv']\n",
    "        data = pd.read_csv('/Users/Sophie/Desktop/CUAHSI/CFE_Calibration/01022500-usgs-hourly.csv')\n",
    "        self.obs_data = data['QObs(mm/h)'].values\n",
    "        self.eval_dates = data['date'].values\n",
    "        #self.eval_dates = [np.datetime64(self.eval_dates[i]) for i in range(len(self.eval_dates))]\n",
    "        print('###--------- usgs start date: ' + self.eval_dates[0] + '.---------')\n",
    "        print('###--------- usgs end date: ' + self.eval_dates[-1] + '.---------')\n",
    "\n",
    "    def parameters(self):\n",
    "        return spotpy.parameter.generate(self.params)\n",
    "        \n",
    "    def simulation(self,vector):\n",
    "        self.cfemodel = bmi_cfe.BMI_CFE('/Users/Sophie/Desktop/CUAHSI/CFE_Calibration/cal_test_config_cfe.json')\n",
    "        print('###--------model succesfully setup----------###')\n",
    "        self.cfemodel.initialize()\n",
    "        print('###--------model succesfully initialized----------###')\n",
    "\n",
    "        # Read in Meteorological forcing\n",
    "        with open(self.cfemodel.forcing_file, 'r') as f:\n",
    "            self.df_forcing = pd.read_csv(f)\n",
    "\n",
    "            usgs_start_idx = np.where(self.df_forcing['date']==self.eval_dates[0])\n",
    "            self.df_forcing = self.df_forcing.iloc[usgs_start_idx[0][0]:,:]\n",
    "\n",
    "        print(f\"###----- forcing_file loaded:{self.cfemodel.forcing_file}. -----###\")\n",
    "        print('###------nldas start date: ' + self.df_forcing['date'].values[0]+ \"-----###\")\n",
    "        print('###------nldas end date: ' + self.df_forcing['date'].values[-1]+\"-----###\")\n",
    "\n",
    "        print('###-----after defining start date nldas length: ' +  str(len(self.df_forcing['date'].values))+\"------###\")\n",
    "\n",
    "        nldas_end_idx = np.where(self.eval_dates==self.df_forcing['date'].values[-1])\n",
    "        self.eval_dates = self.eval_dates[:nldas_end_idx[0][0]+1]\n",
    "        self.obs_data = self.obs_data[:nldas_end_idx[0][0]+1]\n",
    "        print('###---------- after defining usgs end date usgs length: ' +  str(len(self.obs_data)) + '.---------')\n",
    "\n",
    "        self.generated_param = vector\n",
    "        print(f\"###----------- parameters generated: {self.generated_param}.--------###\")\n",
    "        self.cfemodel.soil_params['bb']=vector[0]\n",
    "        self.cfemodel.soil_params['smcmax']=vector[1]\n",
    "        self.cfemodel.soil_params['satdk']=vector[2]\n",
    "        self.cfemodel.soil_params['slop']=vector[3]\n",
    "        self.cfemodel.max_gw_storage==vector[4]\n",
    "        self.cfemodel.expon=vector[5]\n",
    "        self.cfemodel.Cgw=vector[6]\n",
    "        self.cfemodel.K_lf=vector[7]\n",
    "        self.cfemodel.K_nash=vector[8]\n",
    "\n",
    "        self.outputs=self.cfemodel.get_output_var_names()\n",
    "        self.output_lists = {output:[] for output in self.outputs}\n",
    "\n",
    "        # for precip, pet in zip(self.df_forcing['total_precipitation'],self.df_forcing['potential_evaporation']):\n",
    "        #     #print(f\"###----------loaded precip, pet: {precip},{pet}.------------###\")\n",
    "        #     #sys.exit(1)\n",
    "        #     self.cfemodel.set_value('atmosphere_water__time_integral_of_precipitation_mass_flux', precip)\n",
    "        #     self.cfemodel.set_value('water_potential_evaporation_flux', pet)\n",
    "        #     self.cfemodel.update()\n",
    "            \n",
    "        for precip in self.df_forcing['total_precipitation']:\n",
    "            self.cfemodel.set_value('atmosphere_water__time_integral_of_precipitation_mass_flux', precip)\n",
    "            self.cfemodel.update()\n",
    "        \n",
    "            for output in self.outputs:\n",
    "                self.output_lists[output].append(self.cfemodel.get_value(output))\n",
    "           \n",
    "        self.cfemodel.finalize()\n",
    "\n",
    "        print(f'###----------output length: {len(self.output_lists[\"land_surface_water__runoff_volume_flux\"])}.---------###')\n",
    "\n",
    "        return self.output_lists[\"land_surface_water__runoff_volume_flux\"]\n",
    "\n",
    "    def evaluation(self,evaldates=False):\n",
    "        if evaldates:\n",
    "            self.eval_dates_output = [pd.Timestamp(self.eval_dates[i]) for i in enumerate(self.eval_dates)]\n",
    "            return self.eval_dates_output\n",
    "        else:\n",
    "            print(f\"length of obs_data: {len(self.obs_data)}.\")\n",
    "            return self.obs_data\n",
    "\n",
    "    def objectivefunction(self,simulation,evaluation, params=None):\n",
    "        self.obj_function = spotpy.objectivefunctions.kge(evaluation,simulation)\n",
    "        return self.obj_function"
   ]
  },
  {
   "cell_type": "markdown",
   "metadata": {},
   "source": [
    "## Evaluate and Plot"
   ]
  },
  {
   "cell_type": "code",
   "execution_count": 5,
   "metadata": {},
   "outputs": [
    {
     "name": "stdout",
     "output_type": "stream",
     "text": [
      "###--------- usgs start date: 1989-10-01 04:00:00.---------\n",
      "###--------- usgs end date: 2020-05-28 12:00:00.---------\n",
      "length of obs_data: 268737.\n"
     ]
    }
   ],
   "source": [
    "test = spotpy_setup()\n",
    "sampler = spotpy.algorithms.dds(test,dbname='TestDDS',dbformat='csv')"
   ]
  },
  {
   "cell_type": "code",
   "execution_count": 6,
   "metadata": {},
   "outputs": [
    {
     "name": "stdout",
     "output_type": "stream",
     "text": [
      "Initializing the  Dynamically Dimensioned Search (DDS) algorithm  with  10  repetitions\n",
      "The objective function will be maximized\n",
      "Starting the DDS algotrithm with 10 repetitions...\n",
      "Finding best starting point for trial 1 using 5 random samples.\n",
      "###--------model succesfully setup----------###\n",
      "###--------model succesfully initialized----------###\n",
      "###----- forcing_file loaded:/Users/Sophie/Desktop/CUAHSI/CFE_Calibration/01022500_hourly_nldas.csv. -----###\n",
      "###------nldas start date: 1989-10-01 04:00:00-----###\n",
      "###------nldas end date: 2019-03-14 12:00:00-----###\n",
      "###-----after defining start date nldas length: 258153------###\n",
      "###---------- after defining usgs end date usgs length: 258153.---------\n",
      "###----------- parameters generated: parameters(bb=21.378, smcmax=0.291449, satdk=0.000196336, slop=0.907329, max_gw_storage=0.112207, expon=5.57499, Cgw=0.000947403, K_lf=0.0954434, K_nash=0.0276259).--------###\n"
     ]
    },
    {
     "name": "stderr",
     "output_type": "stream",
     "text": [
      "WARNING: objectivefunctions.kge(): evaluation and simulation lists does not have the same length.\n"
     ]
    },
    {
     "name": "stdout",
     "output_type": "stream",
     "text": [
      "###----------output length: 258153.---------###\n",
      "1 of 10, maximal objective function=-1e+308, time remaining: 00:00:38\n",
      "Initialize database...\n",
      "['csv', 'hdf5', 'ram', 'sql', 'custom', 'noData']\n",
      "* Database file 'TestDDS.csv' created.\n",
      "###--------model succesfully setup----------###\n",
      "###--------model succesfully initialized----------###\n",
      "###----- forcing_file loaded:/Users/Sophie/Desktop/CUAHSI/CFE_Calibration/01022500_hourly_nldas.csv. -----###\n",
      "###------nldas start date: 1989-10-01 04:00:00-----###\n",
      "###------nldas end date: 2019-03-14 12:00:00-----###\n",
      "###-----after defining start date nldas length: 258153------###\n",
      "###---------- after defining usgs end date usgs length: 258153.---------\n",
      "###----------- parameters generated: parameters(bb=9.10908, smcmax=0.392391, satdk=0.00047951, slop=0.519248, max_gw_storage=0.228618, expon=2.44124, Cgw=0.000722472, K_lf=0.0267619, K_nash=0.0232648).--------###\n"
     ]
    },
    {
     "name": "stderr",
     "output_type": "stream",
     "text": [
      "WARNING: objectivefunctions.kge(): evaluation and simulation lists does not have the same length.\n"
     ]
    },
    {
     "name": "stdout",
     "output_type": "stream",
     "text": [
      "###----------output length: 258153.---------###\n",
      "2 of 10, maximal objective function=-1e+308, time remaining: 00:00:44\n",
      "###--------model succesfully setup----------###\n",
      "###--------model succesfully initialized----------###\n",
      "###----- forcing_file loaded:/Users/Sophie/Desktop/CUAHSI/CFE_Calibration/01022500_hourly_nldas.csv. -----###\n",
      "###------nldas start date: 1989-10-01 04:00:00-----###\n",
      "###------nldas end date: 2019-03-14 12:00:00-----###\n",
      "###-----after defining start date nldas length: 258153------###\n",
      "###---------- after defining usgs end date usgs length: 258153.---------\n",
      "###----------- parameters generated: parameters(bb=13.2058, smcmax=0.907532, satdk=0.000246936, slop=0.334622, max_gw_storage=0.224673, expon=7.48809, Cgw=0.000349039, K_lf=0.0631452, K_nash=0.0248853).--------###\n"
     ]
    },
    {
     "name": "stderr",
     "output_type": "stream",
     "text": [
      "WARNING: objectivefunctions.kge(): evaluation and simulation lists does not have the same length.\n"
     ]
    },
    {
     "name": "stdout",
     "output_type": "stream",
     "text": [
      "###----------output length: 258153.---------###\n",
      "3 of 10, maximal objective function=-1e+308, time remaining: 00:00:42\n",
      "###--------model succesfully setup----------###\n",
      "###--------model succesfully initialized----------###\n",
      "###----- forcing_file loaded:/Users/Sophie/Desktop/CUAHSI/CFE_Calibration/01022500_hourly_nldas.csv. -----###\n",
      "###------nldas start date: 1989-10-01 04:00:00-----###\n",
      "###------nldas end date: 2019-03-14 12:00:00-----###\n",
      "###-----after defining start date nldas length: 258153------###\n",
      "###---------- after defining usgs end date usgs length: 258153.---------\n",
      "###----------- parameters generated: parameters(bb=12.754, smcmax=0.851199, satdk=0.000544891, slop=0.882033, max_gw_storage=0.0490698, expon=6.08737, Cgw=0.00142173, K_lf=0.0120245, K_nash=0.00962871).--------###\n"
     ]
    },
    {
     "name": "stderr",
     "output_type": "stream",
     "text": [
      "WARNING: objectivefunctions.kge(): evaluation and simulation lists does not have the same length.\n"
     ]
    },
    {
     "name": "stdout",
     "output_type": "stream",
     "text": [
      "###----------output length: 258153.---------###\n",
      "4 of 10, maximal objective function=-1e+308, time remaining: 00:00:37\n",
      "###--------model succesfully setup----------###\n",
      "###--------model succesfully initialized----------###\n",
      "###----- forcing_file loaded:/Users/Sophie/Desktop/CUAHSI/CFE_Calibration/01022500_hourly_nldas.csv. -----###\n",
      "###------nldas start date: 1989-10-01 04:00:00-----###\n",
      "###------nldas end date: 2019-03-14 12:00:00-----###\n",
      "###-----after defining start date nldas length: 258153------###\n",
      "###---------- after defining usgs end date usgs length: 258153.---------\n",
      "###----------- parameters generated: parameters(bb=11.2932, smcmax=0.342314, satdk=9.85849e-05, slop=0.606767, max_gw_storage=0.0898492, expon=4.06841, Cgw=0.000157793, K_lf=0.0735915, K_nash=0.0357826).--------###\n"
     ]
    },
    {
     "name": "stderr",
     "output_type": "stream",
     "text": [
      "WARNING: objectivefunctions.kge(): evaluation and simulation lists does not have the same length.\n"
     ]
    },
    {
     "name": "stdout",
     "output_type": "stream",
     "text": [
      "###----------output length: 258153.---------###\n",
      "5 of 10, maximal objective function=-1e+308, time remaining: 00:00:31\n",
      "###--------model succesfully setup----------###\n",
      "###--------model succesfully initialized----------###\n",
      "###----- forcing_file loaded:/Users/Sophie/Desktop/CUAHSI/CFE_Calibration/01022500_hourly_nldas.csv. -----###\n",
      "###------nldas start date: 1989-10-01 04:00:00-----###\n",
      "###------nldas end date: 2019-03-14 12:00:00-----###\n",
      "###-----after defining start date nldas length: 258153------###\n",
      "###---------- after defining usgs end date usgs length: 258153.---------\n",
      "###----------- parameters generated: parameters(bb=5.93848, smcmax=0.825252, satdk=0.000165647, slop=0.530329, max_gw_storage=0.0728397, expon=4.27848, Cgw=0.00111004, K_lf=0.0867196, K_nash=0.0812665).--------###\n"
     ]
    },
    {
     "name": "stderr",
     "output_type": "stream",
     "text": [
      "WARNING: objectivefunctions.kge(): evaluation and simulation lists does not have the same length.\n"
     ]
    },
    {
     "name": "stdout",
     "output_type": "stream",
     "text": [
      "###----------output length: 258153.---------###\n",
      "6 of 10, maximal objective function=-1e+308, time remaining: 00:00:24\n",
      "###--------model succesfully setup----------###\n",
      "###--------model succesfully initialized----------###\n",
      "###----- forcing_file loaded:/Users/Sophie/Desktop/CUAHSI/CFE_Calibration/01022500_hourly_nldas.csv. -----###\n",
      "###------nldas start date: 1989-10-01 04:00:00-----###\n",
      "###------nldas end date: 2019-03-14 12:00:00-----###\n",
      "###-----after defining start date nldas length: 258153------###\n",
      "###---------- after defining usgs end date usgs length: 258153.---------\n",
      "###----------- parameters generated: parameters(bb=4.93859, smcmax=0.905076, satdk=0.000514097, slop=0.870954, max_gw_storage=0.0200894, expon=2.50329, Cgw=0.000807068, K_lf=0.0928002, K_nash=0.0939997).--------###\n"
     ]
    },
    {
     "name": "stderr",
     "output_type": "stream",
     "text": [
      "WARNING: objectivefunctions.kge(): evaluation and simulation lists does not have the same length.\n"
     ]
    },
    {
     "name": "stdout",
     "output_type": "stream",
     "text": [
      "###----------output length: 258153.---------###\n",
      "7 of 10, maximal objective function=-1e+308, time remaining: 00:00:16\n",
      "###--------model succesfully setup----------###\n",
      "###--------model succesfully initialized----------###\n",
      "###----- forcing_file loaded:/Users/Sophie/Desktop/CUAHSI/CFE_Calibration/01022500_hourly_nldas.csv. -----###\n",
      "###------nldas start date: 1989-10-01 04:00:00-----###\n",
      "###------nldas end date: 2019-03-14 12:00:00-----###\n",
      "###-----after defining start date nldas length: 258153------###\n",
      "###---------- after defining usgs end date usgs length: 258153.---------\n",
      "###----------- parameters generated: parameters(bb=2.38119, smcmax=0.905076, satdk=0.000330807, slop=0.67514, max_gw_storage=0.0200894, expon=3.7794, Cgw=0.000987831, K_lf=0.0366024, K_nash=0.0703287).--------###\n"
     ]
    },
    {
     "name": "stderr",
     "output_type": "stream",
     "text": [
      "WARNING: objectivefunctions.kge(): evaluation and simulation lists does not have the same length.\n"
     ]
    },
    {
     "name": "stdout",
     "output_type": "stream",
     "text": [
      "###----------output length: 258153.---------###\n",
      "8 of 10, maximal objective function=-1e+308, time remaining: 00:00:08\n",
      "###--------model succesfully setup----------###\n",
      "###--------model succesfully initialized----------###\n",
      "###----- forcing_file loaded:/Users/Sophie/Desktop/CUAHSI/CFE_Calibration/01022500_hourly_nldas.csv. -----###\n",
      "###------nldas start date: 1989-10-01 04:00:00-----###\n",
      "###------nldas end date: 2019-03-14 12:00:00-----###\n",
      "###-----after defining start date nldas length: 258153------###\n",
      "###---------- after defining usgs end date usgs length: 258153.---------\n",
      "###----------- parameters generated: parameters(bb=2.38119, smcmax=0.905076, satdk=0.000514097, slop=0.870954, max_gw_storage=0.0200894, expon=3.7794, Cgw=0.00132802, K_lf=0.0826854, K_nash=0.0939997).--------###\n"
     ]
    },
    {
     "name": "stderr",
     "output_type": "stream",
     "text": [
      "WARNING: objectivefunctions.kge(): evaluation and simulation lists does not have the same length.\n"
     ]
    },
    {
     "name": "stdout",
     "output_type": "stream",
     "text": [
      "###----------output length: 258153.---------###\n",
      "9 of 10, maximal objective function=-1e+308, time remaining: 00:00:00\n",
      "###--------model succesfully setup----------###\n",
      "###--------model succesfully initialized----------###\n",
      "###----- forcing_file loaded:/Users/Sophie/Desktop/CUAHSI/CFE_Calibration/01022500_hourly_nldas.csv. -----###\n",
      "###------nldas start date: 1989-10-01 04:00:00-----###\n",
      "###------nldas end date: 2019-03-14 12:00:00-----###\n",
      "###-----after defining start date nldas length: 258153------###\n",
      "###---------- after defining usgs end date usgs length: 258153.---------\n",
      "###----------- parameters generated: parameters(bb=2.38119, smcmax=0.905076, satdk=0.000514097, slop=0.870954, max_gw_storage=0.0200894, expon=3.7794, Cgw=0.00129258, K_lf=0.0826854, K_nash=0.0939997).--------###\n"
     ]
    },
    {
     "name": "stderr",
     "output_type": "stream",
     "text": [
      "WARNING: objectivefunctions.kge(): evaluation and simulation lists does not have the same length.\n"
     ]
    },
    {
     "name": "stdout",
     "output_type": "stream",
     "text": [
      "###----------output length: 258153.---------###\n",
      "10 of 10, maximal objective function=-1e+308, time remaining: 23:59:52\n",
      "Best solution found has obj function value of -1e+308 at 5\n",
      "\n",
      "\n",
      "\n",
      "*** Final SPOTPY summary ***\n",
      "Total Duration: 93.1 seconds\n",
      "Total Repetitions: 10\n",
      "Maximal objective value: -1e+308\n",
      "Corresponding parameter setting:\n",
      "bb: nan\n",
      "smcmax: nan\n",
      "satdk: nan\n",
      "slop: nan\n",
      "max_gw_storage: nan\n",
      "expon: nan\n",
      "Cgw: nan\n",
      "K_lf: nan\n",
      "K_nash: nan\n",
      "******************************\n",
      "\n"
     ]
    },
    {
     "data": {
      "text/plain": [
       "[{'sbest': spotpy.parameter.ParameterSet(),\n",
       "  'trial_initial': [2.3811872138172063,\n",
       "   0.9050762744808367,\n",
       "   0.0005140971939754334,\n",
       "   0.8709535775753602,\n",
       "   0.020089389591669685,\n",
       "   3.7793990877741814,\n",
       "   0.0009878314458604163,\n",
       "   0.08268536523920605,\n",
       "   0.09399972392404334],\n",
       "  'objfunc_val': -1e+308}]"
      ]
     },
     "execution_count": 6,
     "metadata": {},
     "output_type": "execute_result"
    }
   ],
   "source": [
    "sampler.sample(10)"
   ]
  },
  {
   "cell_type": "code",
   "execution_count": 7,
   "metadata": {},
   "outputs": [],
   "source": [
    "results = sampler.getdata()"
   ]
  },
  {
   "cell_type": "code",
   "execution_count": 75,
   "metadata": {},
   "outputs": [
    {
     "name": "stdout",
     "output_type": "stream",
     "text": [
      "The figure as been saved as \"Parameter_trace.png\n"
     ]
    },
    {
     "data": {
      "image/png": "[encoded data removed]",
      "text/plain": [
       "<Figure size 1152x648 with 9 Axes>"
      ]
     },
     "metadata": {
      "needs_background": "light"
     },
     "output_type": "display_data"
    }
   ],
   "source": [
    "spotpy.analyser.plot_parametertrace(results)"
   ]
  },
  {
   "cell_type": "code",
   "execution_count": 15,
   "metadata": {},
   "outputs": [
    {
     "name": "stdout",
     "output_type": "stream",
     "text": [
      "length of obs_data: 258153.\n"
     ]
    },
    {
     "ename": "IndexError",
     "evalue": "only integers, slices (`:`), ellipsis (`...`), numpy.newaxis (`None`) and integer or boolean arrays are valid indices",
     "output_type": "error",
     "traceback": [
      "\u001b[0;31m---------------------------------------------------------------------------\u001b[0m",
      "\u001b[0;31mIndexError\u001b[0m                                Traceback (most recent call last)",
      "\u001b[1;32m/Users/Sophie/Desktop/CUAHSI/CFE_Calibration/Calibration_test.ipynb Cell 18'\u001b[0m in \u001b[0;36m<cell line: 2>\u001b[0;34m()\u001b[0m\n\u001b[1;32m      <a href='vscode-notebook-cell:/Users/Sophie/Desktop/CUAHSI/CFE_Calibration/Calibration_test.ipynb#ch0000030?line=0'>1</a>\u001b[0m evaluation \u001b[39m=\u001b[39m test\u001b[39m.\u001b[39mevaluation()\n\u001b[0;32m----> <a href='vscode-notebook-cell:/Users/Sophie/Desktop/CUAHSI/CFE_Calibration/Calibration_test.ipynb#ch0000030?line=1'>2</a>\u001b[0m evaldates\u001b[39m=\u001b[39m test\u001b[39m.\u001b[39;49mevaluation(evaldates\u001b[39m=\u001b[39;49m\u001b[39mTrue\u001b[39;49;00m)\n\u001b[1;32m      <a href='vscode-notebook-cell:/Users/Sophie/Desktop/CUAHSI/CFE_Calibration/Calibration_test.ipynb#ch0000030?line=3'>4</a>\u001b[0m spotpy\u001b[39m.\u001b[39manalyser\u001b[39m.\u001b[39mplot_bestmodelruns(results,evaluation,algorithms\u001b[39m=\u001b[39m\u001b[39m'\u001b[39m\u001b[39mdds\u001b[39m\u001b[39m'\u001b[39m,dates\u001b[39m=\u001b[39mevaldates, ylabel\u001b[39m=\u001b[39m\u001b[39m'\u001b[39m\u001b[39mStream Flow\u001b[39m\u001b[39m'\u001b[39m)\n",
      "\u001b[1;32m/Users/Sophie/Desktop/CUAHSI/CFE_Calibration/Calibration_test.ipynb Cell 5'\u001b[0m in \u001b[0;36mspotpy_setup.evaluation\u001b[0;34m(self, evaldates)\u001b[0m\n\u001b[1;32m     <a href='vscode-notebook-cell:/Users/Sophie/Desktop/CUAHSI/CFE_Calibration/Calibration_test.ipynb#ch0000004?line=85'>86</a>\u001b[0m \u001b[39mdef\u001b[39;00m \u001b[39mevaluation\u001b[39m(\u001b[39mself\u001b[39m,evaldates\u001b[39m=\u001b[39m\u001b[39mFalse\u001b[39;00m):\n\u001b[1;32m     <a href='vscode-notebook-cell:/Users/Sophie/Desktop/CUAHSI/CFE_Calibration/Calibration_test.ipynb#ch0000004?line=86'>87</a>\u001b[0m     \u001b[39mif\u001b[39;00m evaldates:\n\u001b[0;32m---> <a href='vscode-notebook-cell:/Users/Sophie/Desktop/CUAHSI/CFE_Calibration/Calibration_test.ipynb#ch0000004?line=87'>88</a>\u001b[0m         \u001b[39mself\u001b[39m\u001b[39m.\u001b[39meval_dates_output \u001b[39m=\u001b[39m [pd\u001b[39m.\u001b[39mTimestamp(\u001b[39mself\u001b[39m\u001b[39m.\u001b[39meval_dates[i]) \u001b[39mfor\u001b[39;00m i \u001b[39min\u001b[39;00m \u001b[39menumerate\u001b[39m(\u001b[39mself\u001b[39m\u001b[39m.\u001b[39meval_dates)]\n\u001b[1;32m     <a href='vscode-notebook-cell:/Users/Sophie/Desktop/CUAHSI/CFE_Calibration/Calibration_test.ipynb#ch0000004?line=88'>89</a>\u001b[0m         \u001b[39mreturn\u001b[39;00m \u001b[39mself\u001b[39m\u001b[39m.\u001b[39meval_dates_output\n\u001b[1;32m     <a href='vscode-notebook-cell:/Users/Sophie/Desktop/CUAHSI/CFE_Calibration/Calibration_test.ipynb#ch0000004?line=89'>90</a>\u001b[0m     \u001b[39melse\u001b[39;00m:\n",
      "\u001b[1;32m/Users/Sophie/Desktop/CUAHSI/CFE_Calibration/Calibration_test.ipynb Cell 5'\u001b[0m in \u001b[0;36m<listcomp>\u001b[0;34m(.0)\u001b[0m\n\u001b[1;32m     <a href='vscode-notebook-cell:/Users/Sophie/Desktop/CUAHSI/CFE_Calibration/Calibration_test.ipynb#ch0000004?line=85'>86</a>\u001b[0m \u001b[39mdef\u001b[39;00m \u001b[39mevaluation\u001b[39m(\u001b[39mself\u001b[39m,evaldates\u001b[39m=\u001b[39m\u001b[39mFalse\u001b[39;00m):\n\u001b[1;32m     <a href='vscode-notebook-cell:/Users/Sophie/Desktop/CUAHSI/CFE_Calibration/Calibration_test.ipynb#ch0000004?line=86'>87</a>\u001b[0m     \u001b[39mif\u001b[39;00m evaldates:\n\u001b[0;32m---> <a href='vscode-notebook-cell:/Users/Sophie/Desktop/CUAHSI/CFE_Calibration/Calibration_test.ipynb#ch0000004?line=87'>88</a>\u001b[0m         \u001b[39mself\u001b[39m\u001b[39m.\u001b[39meval_dates_output \u001b[39m=\u001b[39m [pd\u001b[39m.\u001b[39mTimestamp(\u001b[39mself\u001b[39;49m\u001b[39m.\u001b[39;49meval_dates[i]) \u001b[39mfor\u001b[39;00m i \u001b[39min\u001b[39;00m \u001b[39menumerate\u001b[39m(\u001b[39mself\u001b[39m\u001b[39m.\u001b[39meval_dates)]\n\u001b[1;32m     <a href='vscode-notebook-cell:/Users/Sophie/Desktop/CUAHSI/CFE_Calibration/Calibration_test.ipynb#ch0000004?line=88'>89</a>\u001b[0m         \u001b[39mreturn\u001b[39;00m \u001b[39mself\u001b[39m\u001b[39m.\u001b[39meval_dates_output\n\u001b[1;32m     <a href='vscode-notebook-cell:/Users/Sophie/Desktop/CUAHSI/CFE_Calibration/Calibration_test.ipynb#ch0000004?line=89'>90</a>\u001b[0m     \u001b[39melse\u001b[39;00m:\n",
      "\u001b[0;31mIndexError\u001b[0m: only integers, slices (`:`), ellipsis (`...`), numpy.newaxis (`None`) and integer or boolean arrays are valid indices"
     ]
    }
   ],
   "source": [
    "evaluation = test.evaluation()\n",
    "evaldates= test.evaluation(evaldates=True)\n",
    "\n",
    "spotpy.analyser.plot_bestmodelruns(results,evaluation,algorithms='dds',dates=evaldates, ylabel='Stream Flow')"
   ]
  },
  {
   "cell_type": "code",
   "execution_count": null,
   "metadata": {},
   "outputs": [],
   "source": []
  }
 ],
 "metadata": {
  "kernelspec": {
   "display_name": "Python 3.9.13 64-bit",
   "language": "python",
   "name": "python3"
  },
  "language_info": {
   "codemirror_mode": {
    "name": "ipython",
    "version": 3
   },
   "file_extension": ".py",
   "mimetype": "text/x-python",
   "name": "python",
   "nbconvert_exporter": "python",
   "pygments_lexer": "ipython3",
   "version": "3.9.13"
  },
  "orig_nbformat": 4,
  "vscode": {
   "interpreter": {
    "hash": "aee8b7b246df8f9039afb4144a1f6fd8d2ca17a180786b69acc140d282b71a49"
   }
  }
 },
 "nbformat": 4,
 "nbformat_minor": 2
}
