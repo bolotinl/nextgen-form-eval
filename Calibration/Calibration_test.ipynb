{
 "cells": [
  {
   "cell_type": "code",
   "execution_count": null,
   "metadata": {},
   "outputs": [],
   "source": [
    "import spotpy"
   ]
  },
  {
   "cell_type": "markdown",
   "metadata": {},
   "source": [
    "# Easy Tutorial"
   ]
  },
  {
   "cell_type": "code",
   "execution_count": null,
   "metadata": {},
   "outputs": [],
   "source": [
    "from spotpy import analyser                                     # Load the Plotting extension \n",
    "from spotpy.examples.spot_setup_rosenbrock import spot_setup    # Import the two dimensional Rosenbrock example"
   ]
  },
  {
   "cell_type": "code",
   "execution_count": null,
   "metadata": {},
   "outputs": [],
   "source": [
    "# Give Monte Carlo algorithm the example setup and saves results in a RosenMC.csv file\n",
    "sampler = spotpy.algorithms.mc(spot_setup(), dbname='RosenMC', dbformat='csv')"
   ]
  },
  {
   "cell_type": "code",
   "execution_count": null,
   "metadata": {},
   "outputs": [],
   "source": [
    "# sample with the implemented Monte Carlo algorithm\n",
    "sampler.sample(100000)                # Sample 100,000 parameter combinations\n",
    "results=sampler.getdata()             # Get the results of the sampler"
   ]
  },
  {
   "cell_type": "code",
   "execution_count": null,
   "metadata": {},
   "outputs": [],
   "source": [
    "# what the algorithm has done during the 100.000 iterations\n",
    "spotpy.analyser.plot_parameterInteraction(results)  "
   ]
  },
  {
   "cell_type": "code",
   "execution_count": null,
   "metadata": {},
   "outputs": [],
   "source": [
    "print(spotpy.analyser.get_best_parameterset(results))"
   ]
  },
  {
   "cell_type": "markdown",
   "metadata": {},
   "source": [
    "# Link BMI_CFE with Spotpy"
   ]
  },
  {
   "cell_type": "code",
   "execution_count": null,
   "metadata": {},
   "outputs": [],
   "source": [
    "import os\n",
    "#from netCDF4 import Dataset\n",
    "#from pathlib import Path\n",
    "import time\n",
    "import numpy as np\n",
    "import pandas as pd\n",
    "import json\n",
    "import matplotlib.pyplot as plt\n"
   ]
  },
  {
   "cell_type": "code",
   "execution_count": null,
   "metadata": {},
   "outputs": [],
   "source": [
    "import sys\n",
    "\n",
    "import bmi_cfe\n",
    "import cfe"
   ]
  },
  {
   "cell_type": "markdown",
   "metadata": {},
   "source": [
    "## set up spotpy class"
   ]
  },
  {
   "cell_type": "code",
   "execution_count": null,
   "metadata": {},
   "outputs": [],
   "source": [
    "class spotpy_setup(object): \n",
    "\n",
    "    def __init__(self): \n",
    "        # setup calibration parameters\n",
    "        self.params = [spotpy.parameter.Uniform('bb',0,21.94,optguess=16),\n",
    "                       spotpy.parameter.Uniform('smcmax',0.20554,1,optguess=0.439), #maybe max = 0.5\n",
    "                       spotpy.parameter.Uniform('satdk',0,0.000726,optguess=3.38e-6),\n",
    "                       spotpy.parameter.Uniform('slop',0,1,optguess=0.01),\n",
    "                       spotpy.parameter.Uniform('max_gw_storage',0.01,0.25,optguess=0.01),\n",
    "                       spotpy.parameter.Uniform('expon',1,8,optguess=6.0),\n",
    "                       spotpy.parameter.Uniform('Cgw',1.8e-6,1.8e-3),\n",
    "                       spotpy.parameter.Uniform('K_lf',0,0.1),\n",
    "                       spotpy.parameter.Uniform('K_nash',0,0.1),\n",
    "                       ]\n",
    "    \n",
    "        #Load test comparison data (streamflow) from usgs data\n",
    "        data = pd.read_csv('/Users/Sophie/Desktop/CUAHSI/CFE_Calibration/01022500-usgs-hourly.csv')\n",
    "        self.obs_data = data['QObs(mm/h)'].values\n",
    "        self.eval_dates = data['date'].values\n",
    "        print('###--------- usgs start date: ' + self.eval_dates[0] + '.---------')\n",
    "        print('###--------- usgs end date: ' + self.eval_dates[-1] + '.---------')\n",
    "\n",
    "        self.cfemodel = bmi_cfe.BMI_CFE('/Users/Sophie/Desktop/CUAHSI/CFE_Calibration/cal_test_config_cfe.json')\n",
    "        print('###--------model succesfully setup----------###')\n",
    "        self.cfemodel.initialize()\n",
    "        print('###--------model succesfully initialized----------###')\n",
    "\n",
    "        with open(self.cfemodel.forcing_file, 'r') as f:\n",
    "            self.df_forcing = pd.read_csv(f)\n",
    "\n",
    "        usgs_start_idx = np.where(self.df_forcing['date']==self.eval_dates[0])\n",
    "        self.df_forcing = self.df_forcing.iloc[usgs_start_idx[0][0]:,:]\n",
    "\n",
    "        print(f\"###----- forcing_file loaded:{self.cfemodel.forcing_file}. -----###\")\n",
    "        print('###------nldas start date: ' + self.df_forcing['date'].values[0]+ \"-----###\")\n",
    "        print('###------nldas end date: ' + self.df_forcing['date'].values[-1]+\"-----###\")\n",
    "\n",
    "        print('###-----after defining start date nldas length: ' +  str(len(self.df_forcing['date'].values))+\"------###\")\n",
    "\n",
    "        nldas_end_idx = np.where(self.eval_dates==self.df_forcing['date'].values[-1])\n",
    "        self.eval_dates = self.eval_dates[:nldas_end_idx[0][0]+1]\n",
    "        self.obs_data = self.obs_data[:nldas_end_idx[0][0]+1]\n",
    "        print('###---------- after defining usgs end date usgs length: ' +  str(len(self.obs_data)) + '.---------')\n",
    "\n",
    "        \n",
    "    def parameters(self):\n",
    "        return spotpy.parameter.generate(self.params)\n",
    "        \n",
    "    def simulation(self,vector):\n",
    "        self.cfemodel = bmi_cfe.BMI_CFE('/Users/Sophie/Desktop/CUAHSI/CFE_Calibration/cal_test_config_cfe.json')\n",
    "        print('###--------model succesfully setup----------###')\n",
    "        self.cfemodel.initialize()\n",
    "        print('###--------model succesfully initialized----------###')\n",
    "\n",
    "        #Read in Meteorological forcing\n",
    "        with open(self.cfemodel.forcing_file, 'r') as f:\n",
    "            self.df_forcing = pd.read_csv(f)\n",
    "\n",
    "        usgs_start_idx = np.where(self.df_forcing['date']==self.eval_dates[0])\n",
    "        self.df_forcing = self.df_forcing.iloc[usgs_start_idx[0][0]:,:]\n",
    "\n",
    "        print(f\"###----- forcing_file loaded:{self.cfemodel.forcing_file}. -----###\")\n",
    "        print('###------nldas start date: ' + self.df_forcing['date'].values[0]+ \"-----###\")\n",
    "        print('###------nldas end date: ' + self.df_forcing['date'].values[-1]+\"-----###\")\n",
    "\n",
    "        print('###-----after defining start date nldas length: ' +  str(len(self.df_forcing['date'].values))+\"------###\")\n",
    "\n",
    "        nldas_end_idx = np.where(self.eval_dates==self.df_forcing['date'].values[-1])\n",
    "        self.eval_dates = self.eval_dates[:nldas_end_idx[0][0]+1]\n",
    "        self.obs_data = self.obs_data[:nldas_end_idx[0][0]+1]\n",
    "        print('###---------- after defining usgs end date usgs length: ' +  str(len(self.obs_data)) + '.---------')\n",
    "\n",
    "        #test.cfemodel.cfe_model = cfe.CFE()\n",
    "        \n",
    "        self.generated_param = vector\n",
    "        print(f\"###----------- parameters generated: {self.generated_param}.--------###\")\n",
    "        self.cfemodel.soil_params['bb']=vector[0]\n",
    "        self.cfemodel.soil_params['smcmax']=vector[1]\n",
    "        self.cfemodel.soil_params['satdk']=vector[2]\n",
    "        self.cfemodel.soil_params['slop']=vector[3]\n",
    "        self.cfemodel.max_gw_storage==vector[4]\n",
    "        self.cfemodel.expon=vector[5]\n",
    "        self.cfemodel.Cgw=vector[6]\n",
    "        self.cfemodel.K_lf=vector[7]\n",
    "        self.cfemodel.K_nash=vector[8]\n",
    "\n",
    "        self.outputs=self.cfemodel.get_output_var_names()\n",
    "        self.output_lists = {output:[] for output in self.outputs}\n",
    "\n",
    "        for precip, pet in zip(self.df_forcing['total_precipitation'],self.df_forcing['potential_evaporation']):\n",
    "            #print(f\"###----------loaded precip, pet: {precip},{pet}.------------###\")\n",
    "            #sys.exit(1)\n",
    "            self.cfemodel.set_value('atmosphere_water__time_integral_of_precipitation_mass_flux', precip)\n",
    "            self.cfemodel.set_value('water_potential_evaporation_flux', pet)\n",
    "            self.cfemodel.update()\n",
    "            \n",
    "        # for precip in self.df_forcing['total_precipitation']:\n",
    "        #     self.cfemodel.set_value('atmosphere_water__time_integral_of_precipitation_mass_flux', precip)\n",
    "        #     self.cfemodel.update()\n",
    "        \n",
    "            for output in self.outputs:\n",
    "                self.output_lists[output].append(self.cfemodel.get_value(output))\n",
    "           \n",
    "        self.cfemodel.finalize()\n",
    "\n",
    "        print(f'###----------output length: {len(self.output_lists[\"land_surface_water__runoff_volume_flux\"])}.---------###')\n",
    "\n",
    "        return self.output_lists[\"land_surface_water__runoff_volume_flux\"]\n",
    "\n",
    "    def evaluation(self,evaldates=False):\n",
    "        if evaldates:\n",
    "            self.eval_dates_output = [pd.Timestamp(test.eval_dates[i]) for i in range(len(test.eval_dates))]\n",
    "            return self.eval_dates_output\n",
    "        else:\n",
    "            print(f\"length of obs_data: {len(self.obs_data)}.\")\n",
    "            return self.obs_data\n",
    "\n",
    "    def objectivefunction(self,simulation,evaluation, params=None):\n",
    "        self.obj_function = spotpy.objectivefunctions.kge(evaluation,simulation)\n",
    "        return self.obj_function"
   ]
  },
  {
   "cell_type": "markdown",
   "metadata": {},
   "source": [
    "## Evaluate and Plot"
   ]
  },
  {
   "cell_type": "code",
   "execution_count": null,
   "metadata": {},
   "outputs": [],
   "source": [
    "test = spotpy_setup()\n",
    "sampler = spotpy.algorithms.dds(test,dbname='TestDDS',dbformat='csv')"
   ]
  },
  {
   "cell_type": "code",
   "execution_count": null,
   "metadata": {},
   "outputs": [],
   "source": [
    "sampler.sample(10)"
   ]
  },
  {
   "cell_type": "code",
   "execution_count": null,
   "metadata": {},
   "outputs": [],
   "source": [
    "results = sampler.getdata()"
   ]
  },
  {
   "cell_type": "code",
   "execution_count": null,
   "metadata": {},
   "outputs": [],
   "source": [
    "print(spotpy.analyser.get_best_parameterset(results))"
   ]
  },
  {
   "cell_type": "code",
   "execution_count": null,
   "metadata": {},
   "outputs": [],
   "source": [
    "spotpy.analyser.plot_parametertrace(results)"
   ]
  },
  {
   "cell_type": "code",
   "execution_count": null,
   "metadata": {},
   "outputs": [],
   "source": [
    "evaluation = test.evaluation()\n",
    "evaldates= test.evaluation(evaldates=True)\n",
    "\n",
    "spotpy.analyser.plot_bestmodelruns(results,evaluation,algorithms='dds',dates=evaldates, ylabel='Stream Flow')"
   ]
  },
  {
   "cell_type": "code",
   "execution_count": null,
   "metadata": {},
   "outputs": [],
   "source": []
  }
 ],
 "metadata": {
  "kernelspec": {
   "display_name": "Python 3.9.13 64-bit",
   "language": "python",
   "name": "python3"
  },
  "language_info": {
   "codemirror_mode": {
    "name": "ipython",
    "version": 3
   },
   "file_extension": ".py",
   "mimetype": "text/x-python",
   "name": "python",
   "nbconvert_exporter": "python",
   "pygments_lexer": "ipython3",
   "version": "3.9.13"
  },
  "orig_nbformat": 4,
  "vscode": {
   "interpreter": {
    "hash": "aee8b7b246df8f9039afb4144a1f6fd8d2ca17a180786b69acc140d282b71a49"
   }
  }
 },
 "nbformat": 4,
 "nbformat_minor": 2
}
