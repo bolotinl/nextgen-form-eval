{
 "cells": [
  {
   "cell_type": "code",
   "execution_count": 1,
   "metadata": {},
   "outputs": [],
   "source": [
    "# ESSENTIALS\n",
    "import numpy as np\n",
    "import matplotlib.pyplot as plt\n",
    "import glob, os\n",
    "\n",
    "# CLUSTERING AND RANDOM FOREST\n",
    "import skfuzzy as fuzz\n",
    "from sklearn import tree\n",
    "from sklearn import model_selection\n",
    "from sklearn.datasets import make_blobs\n",
    "from sklearn.base import BaseEstimator, RegressorMixin\n",
    "from sklearn.ensemble import RandomForestRegressor\n",
    "from sklearn.inspection import permutation_importance\n",
    "from sklearn.pipeline import make_pipeline\n",
    "from sklearn.svm import *\n",
    "from sklearn.preprocessing import StandardScaler\n",
    "from sklearn.tree import export_graphviz\n",
    "from sklearn.metrics import mean_squared_error as mse\n",
    "from sklearn.metrics import r2_score\n",
    "from sklearn.model_selection import train_test_split\n",
    "from sklearn.model_selection import GridSearchCV\n",
    "from sklearn.model_selection import KFold\n",
    "from sklearn.metrics import ConfusionMatrixDisplay\n",
    "\n",
    "# DATA LIBRARIES\n",
    "# import rasterio\n",
    "# import contextily as cx\n",
    "import geopandas as gpd\n",
    "import pandas as pd\n",
    "\n",
    "\n",
    "# PREFERENCES\n",
    "pd.set_option('display.max_columns', 500)\n",
    "# plt.rcParams['figure.dpi'] = 150\n",
    "plt.rcParams['figure.figsize'] = (10, 10)\n",
    "plt.rcParams.update({'font.size': 14})"
   ]
  },
  {
   "cell_type": "markdown",
   "metadata": {},
   "source": [
    "Define our Scikit-Learn Compliant Class so we can implement validation schemes within. Only two methods required: predict() and fit()"
   ]
  },
  {
   "cell_type": "code",
   "execution_count": 2,
   "metadata": {},
   "outputs": [],
   "source": [
    "class ModelSelector():\n",
    "\n",
    "    def __init__(self, c_kwargs={}, rf_kwargs={}):\n",
    "       self.c_kwargs=c_kwargs        # CLUSTERING HYPERPARAMETERS\n",
    "       self.rf_kwargs=rf_kwargs      # RANDOM FOREST HYPERPARAMETERS\n",
    "       self.m = 2                    # EXPONENTIATION COEFFICIENT FOR CLUSTERING. TODO: MAKE ADJUSTABLE\n",
    "\n",
    "    def fuzzyCluster(self, data):\n",
    "        # Wraps Fuzzy Cluster function, only outputting percent belongs and formal cluster.\n",
    "\n",
    "        # CHECK THAT REQUIRED FIELDS ARE IN KWARGS, IF NOT ADD\n",
    "        if \"error\" not in self.c_kwargs:\n",
    "            self.c_kwargs['error']=0.005\n",
    "\n",
    "        if \"maxiter\" not in self.c_kwargs:\n",
    "            self.c_kwargs['maxiter']=1000\n",
    "\n",
    "        cntr, u, u0, d, jm, p, fpc = fuzz.cluster.cmeans(data.T, self.n_centers, self.m, **self.c_kwargs)\n",
    "        label = np.argmax(u, axis=0)\n",
    "        return cntr, u, fpc, label\n",
    "\n",
    "    def howManyClusters(self, X, mintest=2,maxtest=15):\n",
    "        # Determines how many clusters should be used using the Fuzzy Partitions Coefficient (FPC)\n",
    "        # https://scikit-fuzzy.github.io/scikit-fuzzy/auto_examples/plot_cmeans.html#example-plot-cmeans-py\n",
    "        # TODO: FIGURE OUT IF THIS METHOD IS APPROPRIATE OR NOT\n",
    "        return 3\n",
    "        fpcs = []\n",
    "        listtests = np.arange(mintest,maxtest)\n",
    "        for ncenters in listtests:\n",
    "            self.n_centers = ncenters\n",
    "            _, _, fpc, _ = self.fuzzyCluster(X)\n",
    "            fpcs.append(fpc)\n",
    "        return listtests[np.argmax(fpcs)]\n",
    "\n",
    "    def train_rf(self, X_train, y_train, rf_controls={}):\n",
    "        # ADAPTED FROM https://stackoverflow.com/questions/28489667/combining-random-forest-models-in-scikit-learn\n",
    "\n",
    "        # RF CONTROLS PASSED DIRECTLY FROM PARAMETER, DEFAULT IS EMPTY\n",
    "        rf = RandomForestRegressor(**rf_controls) \n",
    "\n",
    "        # RF FITTING \n",
    "        rf.fit(X_train, y_train)\n",
    "\n",
    "        return rf\n",
    "\n",
    "    def fit(self, attributes, model_perf):\n",
    "\n",
    "        # CREATE RANDOM FOREST AND TRAIN\n",
    "        self.rf = self.train_rf(attributes, model_perf, rf_controls=self.rf_kwargs)\n",
    "        # print(r2_score(self.rf.predict(attributes), model_perf))\n",
    "\n",
    "        return self\n",
    "\n",
    "    def predict(self, attributes):\n",
    "\n",
    "        # CHECK WHETHER MODEL HAS BEEN TRAINED\n",
    "        if self.rf is None:\n",
    "            raise(Exception(\"ModelSelector isn't trained!\"))\n",
    "\n",
    "        # GET RANDOM FOREST PREDICTION\n",
    "        pred = self.rf.predict(attributes)\n",
    "\n",
    "\n",
    "        return pred\n"
   ]
  },
  {
   "cell_type": "markdown",
   "metadata": {},
   "source": [
    "Define function to get values from Random Forest"
   ]
  },
  {
   "cell_type": "code",
   "execution_count": 3,
   "metadata": {},
   "outputs": [],
   "source": [
    "def runFitMetric_getMSE(fitmet, rf_kwargs={}):\n",
    "    # FILEPATH TO SHAPEFILE CONTAINING CAMELS DATASET\n",
    "    camelsdir = r\"C:\\Users\\franc\\OneDrive - University Of Houston\\000_SIResearch\\data\\HCDN_nhru_final\\HCDN_nhru_final_671.shp\"\n",
    "\n",
    "    # DIRECTORY TO FOLDER CONTAINING CAMELS ATTRIBUTE TEXTFILES\n",
    "    # PRIOR TO THIS STEP MAKE SURE THE README IN THE FILE SYSTEM HAS BEEN REMOVED (or the file extension has been changed)\n",
    "    attdir = r\"C:\\Users\\franc\\OneDrive - University Of Houston\\000_SIResearch\\data\\camels_attributes_v2.0\\camels_attributes_v2.0\\\\\"\n",
    "\n",
    "    # READ CAMELS DATASET\n",
    "    camels = gpd.read_file(camelsdir)\n",
    "\n",
    "    # COPY TO KEEP ORIGINAL IN MEMORY\n",
    "    camels_df = camels \n",
    "\n",
    "    # LOOP THROUGH AND JOIN\n",
    "    filelist = glob.glob(attdir + \"*.txt\")\n",
    "    for i in filelist:\n",
    "        currdf = pd.read_csv(i, sep=\";\")\n",
    "        camels_df = camels_df.merge(currdf, how='left', left_on=\"hru_id\", right_on=\"gauge_id\")\n",
    "\n",
    "    # DEFINE WHAT WE WANT TO RUN ON\n",
    "    perf_dir = r\"C:\\Users\\franc\\OneDrive - University Of Houston\\000_SIResearch\\data\\hourly_performances\\\\\"\n",
    "    \n",
    "    perf_metrics = [fitmet]\n",
    "\n",
    "    # READ ALL CSV FILES IN DIRECTORY\n",
    "    os.chdir(perf_dir)\n",
    "    modelfiles = glob.glob(\"*.csv\")\n",
    "\n",
    "    # GET FIRST CSV FILE TO DEFINE DATAFRAME AND ADD PREFIX TO COLUMNS BASED ON NAME\n",
    "    print(perf_dir + modelfiles[0])\n",
    "    perf = pd.read_csv(perf_dir + modelfiles[0]).add_prefix(modelfiles[0][:-4] + \"_\")\n",
    "    # GET COLUMN NAME CONTAINING \"BASIN\"\n",
    "    fcol = [col for col in perf.columns if 'basin' in col]\n",
    "\n",
    "    # LOOP FOR EACH CSV FILE\n",
    "    for ii in range(1, len(modelfiles)):\n",
    "        print(perf_dir + modelfiles[ii])\n",
    "        # GET NEXT CSV FILE TO DEFINE DATAFRAME AND ADD PREFIX TO COLUMNS BASED ON NAME\n",
    "        currdf = pd.read_csv(perf_dir + modelfiles[ii]).add_prefix(modelfiles[ii][:-4] + \"_\")\n",
    "\n",
    "        # GET COLUMN NAME CONTAINING \"BASIN\"\n",
    "        basin_col= [col for col in currdf.columns if 'basin' in col]\n",
    "        # JOIN ON MATCHING BASINS\n",
    "        perf = perf.merge(currdf, how=\"inner\", left_on=fcol, right_on=basin_col)\n",
    "\n",
    "    # GET COLUMN NAME CONTAINING \"FITMET\"\n",
    "    perf_met = [col for col in perf.columns if fitmet in col]\n",
    "\n",
    "    # CLEAN UP NONSENSICAL DATA (EG, BASIN LABELS)\n",
    "    # SO LETS GET A LIST OF VARIABLE NAMES WE WANT TO KEEP.\n",
    "\n",
    "    # TO START WE WILL KEEP THE SAME VARIABLES AS Kratzert et al. 2019, AS SHOWN BY OUR\n",
    "    # INTERNAL SPREADSHEET Attributes_CAMELS_vs_NHDPlus\n",
    "    varstokeep = ['organic_frac',\n",
    "    'elev_mean_x',\n",
    "    'slope_mean',\n",
    "    'area_gages2',\n",
    "    'soil_depth_pelletier',\n",
    "    'sand_frac',\n",
    "    'silt_frac',\n",
    "    'clay_frac',\n",
    "    'geol_permeability',\n",
    "    'p_mean',\n",
    "    'pet_mean',\n",
    "    'aridity',\n",
    "    'frac_snow',\n",
    "    'high_prec_freq',\n",
    "    'high_prec_dur',\n",
    "    'low_prec_freq',\n",
    "    'low_prec_dur']\n",
    "\n",
    "    camels_df = camels_df.merge(perf, how=\"inner\", left_on=\"hru_id\", right_on=fcol)\n",
    "    inputdataset = camels_df[varstokeep]\n",
    "    outputdataset = camels_df[perf_met]\n",
    "    \n",
    "    \n",
    "    nsplits = 5\n",
    "    kf = KFold(n_splits=nsplits, shuffle=True)\n",
    "\n",
    "\n",
    "    testvalues = np.zeros((inputdataset.shape[0], outputdataset.shape[1]))                  # CONTAINER FOR PERFORMANCE VALUES WHEN BASIN IN TEST SET\n",
    "    modelno = 0                                                              # COUNTER FOR MODEL CONTAINER\n",
    "    test_modelno = np.zeros((inputdataset.shape[0], outputdataset.shape[1]))                # MODEL IN WHICH BASIN WAS IN TEST SET\n",
    "    test_modellist = list()                                                  # MODEL CONTAINER\n",
    "    featureimportance = list()\n",
    "    msetest = list()\n",
    "    msetrain = list()\n",
    "    msemeta = list()\n",
    "\n",
    "    currout=outputdataset\n",
    "\n",
    "    # KFOLD SPLIT OF DATASETS\n",
    "    for train, test in kf.split(inputdataset):            \n",
    "        # CODE FOR INDIVIDUAL MODEL TRAINING\n",
    "        for ii in range(currout.shape[1]):\n",
    "            # TRAIN MODEL ON TRAINING SET\n",
    "            model = None\n",
    "            model = ModelSelector(rf_kwargs=rf_kwargs)\n",
    "            model.fit(inputdataset.iloc[train, :], currout.iloc[train, ii])\n",
    "\n",
    "            # PERFORM PREDICTION ON TRAIN SET AND GET FIT METRICS\n",
    "            train_pred = model.predict(inputdataset.iloc[train, :])\n",
    "            trainrms = mse(train_pred, currout.iloc[train, ii].to_numpy())\n",
    "            trainr2 = r2_score(train_pred, currout.iloc[train, ii].to_numpy())\n",
    "\n",
    "            # PERFORM PREDICTION ON TEST SET AND GET FIT METRICS\n",
    "            model_pred = model.predict(inputdataset.iloc[test, :])\n",
    "            testrms = mse(model_pred, currout.iloc[test, ii].to_numpy())\n",
    "            testr2 = r2_score(model_pred, currout.iloc[test, ii].to_numpy())\n",
    "\n",
    "            # SAVE VALUES IN CONTAINERS ABOVE\n",
    "            testvalues[test, ii] = model_pred\n",
    "            test_modelno[test, ii] = modelno\n",
    "            modelno = modelno + 1\n",
    "            test_modellist.append(model)\n",
    "            msetest.append(testrms)\n",
    "            msetrain.append(trainrms)\n",
    "\n",
    "            # print(f\"Test R2: {testr2:.3f} | Meta R2: {metar2:.3f} | Test MSE: {testrms:.3f} | Meta MSE: {metarms:.3f} | Model ID: {ii}\")\n",
    "\n",
    "\n",
    "    return camels_df, inputdataset, outputdataset, testvalues, test_modelno, test_modellist, featureimportance"
   ]
  },
  {
   "cell_type": "code",
   "execution_count": 4,
   "metadata": {},
   "outputs": [
    {
     "name": "stderr",
     "output_type": "stream",
     "text": [
      "c:\\Users\\franc\\anaconda3\\envs\\SIMain\\lib\\site-packages\\geopandas\\geodataframe.py:1483: FutureWarning: Passing 'suffixes' which cause duplicate columns {'gauge_id_x'} in the result is deprecated and will raise a MergeError in a future version.\n",
      "  result = DataFrame.merge(self, *args, **kwargs)\n",
      "c:\\Users\\franc\\anaconda3\\envs\\SIMain\\lib\\site-packages\\geopandas\\geodataframe.py:1483: FutureWarning: Passing 'suffixes' which cause duplicate columns {'gauge_id_x'} in the result is deprecated and will raise a MergeError in a future version.\n",
      "  result = DataFrame.merge(self, *args, **kwargs)\n"
     ]
    },
    {
     "name": "stdout",
     "output_type": "stream",
     "text": [
      "C:\\Users\\franc\\OneDrive - University Of Houston\\000_SIResearch\\data\\hourly_performances\\\\CFE.csv\n",
      "C:\\Users\\franc\\OneDrive - University Of Houston\\000_SIResearch\\data\\hourly_performances\\\\LSTM.csv\n"
     ]
    }
   ],
   "source": [
    "rfargs =  {\"n_estimators\": 15}\n",
    "camels_df, inputs, target, testvalues, test_modelno, test_modellist, featureimportance = runFitMetric_getMSE(\"nnse\",rf_kwargs=rfargs)"
   ]
  },
  {
   "cell_type": "code",
   "execution_count": null,
   "metadata": {},
   "outputs": [],
   "source": []
  },
  {
   "cell_type": "code",
   "execution_count": 5,
   "metadata": {},
   "outputs": [],
   "source": [
    "# THIS IS THE BEST PREDICTED MODEL\n",
    "# CALCULATED AS THE MAXIMUM OF THE PREDICTED PERFORMANCES\n",
    "# BEST PRED MODEL = BPM\n",
    "bpm_idx = np.argmax(testvalues, axis=1)\n",
    "bpm_perf = testvalues[np.arange(testvalues.shape[0]), bpm_idx]\n",
    "\n",
    "# THIS IS THE BEST ACTUAL MODEL\n",
    "# CALCULATED AS THE MAXIMUM OF THE ACTUAL PERFORMANCES\n",
    "# BEST ACTUAL MODEL = BAM\n",
    "target_perf = target.to_numpy()\n",
    "bam_idx = np.argmax(target_perf, axis=1)\n",
    "bam_perf = target_perf[np.arange(testvalues.shape[0]), bam_idx]"
   ]
  },
  {
   "cell_type": "code",
   "execution_count": 6,
   "metadata": {},
   "outputs": [
    {
     "data": {
      "text/plain": [
       "<sklearn.metrics._plot.confusion_matrix.ConfusionMatrixDisplay at 0x1e7648df2e0>"
      ]
     },
     "execution_count": 6,
     "metadata": {},
     "output_type": "execute_result"
    },
    {
     "data": {
      "image/png": "[encoded data removed]",
      "text/plain": [
       "<Figure size 432x288 with 2 Axes>"
      ]
     },
     "metadata": {
      "needs_background": "light"
     },
     "output_type": "display_data"
    }
   ],
   "source": [
    "# PLOT CONFUSION MATRIX\n",
    "ConfusionMatrixDisplay.from_predictions(bam_idx, bpm_idx, normalize='all')"
   ]
  },
  {
   "cell_type": "code",
   "execution_count": 7,
   "metadata": {},
   "outputs": [
    {
     "data": {
      "text/plain": [
       "(array([28., 13., 11.,  8.,  8.,  8.,  7.,  3.,  3.,  1.,  2.,  0.,  1.,\n",
       "         0.,  1.,  0.,  0.,  2.,  0.,  1.]),\n",
       " array([3.51420000e-04, 2.69252126e-02, 5.34990053e-02, 8.00727979e-02,\n",
       "        1.06646591e-01, 1.33220383e-01, 1.59794176e-01, 1.86367969e-01,\n",
       "        2.12941761e-01, 2.39515554e-01, 2.66089346e-01, 2.92663139e-01,\n",
       "        3.19236932e-01, 3.45810724e-01, 3.72384517e-01, 3.98958310e-01,\n",
       "        4.25532102e-01, 4.52105895e-01, 4.78679688e-01, 5.05253480e-01,\n",
       "        5.31827273e-01]),\n",
       " <BarContainer object of 20 artists>)"
      ]
     },
     "execution_count": 7,
     "metadata": {},
     "output_type": "execute_result"
    },
    {
     "data": {
      "image/png": "[encoded data removed]",
      "text/plain": [
       "<Figure size 432x288 with 1 Axes>"
      ]
     },
     "metadata": {
      "needs_background": "light"
     },
     "output_type": "display_data"
    }
   ],
   "source": [
    "# IN SAMPLES THAT ARE NOT CORRECTLY CLASSIFIED (ie, bpm_idx != bam_idx)\n",
    "# HOW FAR OFF ARE THE TWO ACTUAL PERFORMANCES?\n",
    "wrong_model = np.where(bpm_idx != bam_idx, True, False)\n",
    "wrong_model_perfdiff = np.abs(target_perf[wrong_model, 0] - target_perf[wrong_model, 1])\n",
    "plt.hist(wrong_model_perfdiff, bins=20)"
   ]
  },
  {
   "cell_type": "code",
   "execution_count": 21,
   "metadata": {},
   "outputs": [],
   "source": [
    "def ensemblePerf(perf, target, threshold=0.2):\n",
    "    # TODO: CONSIDER DOING A MORE ROBUST THING WERE YOU CALCULATE THE DIFFERENCE\n",
    "    # BETWEEN EACH PERFORMANCE AND THE MINIMUM OF THE ROW WITHOUT ITSELF\n",
    "    # THEN, RUN A NP.WHERE TO ESTABLISH THAT IF BIGGER THAN THRESHOLD, SET TO NAN\n",
    "    # AND CALCULATE THE NORMALIZED PERFORMANCE FROM THERE\n",
    "\n",
    "    # RANGE OF EACH ROW\n",
    "    rn = np.max(perf, axis=1) - np.min(perf, axis=1)\n",
    "    \n",
    "    # THIS IS THE BEST PREDICTED MODEL\n",
    "    # CALCULATED AS THE MAXIMUM OF THE PREDICTED PERFORMANCES\n",
    "    # BEST PRED MODEL = BPM\n",
    "    bpm_idx = np.argmax(perf, axis=1)\n",
    "    bpm_perf = perf[np.arange(perf.shape[0]), bpm_idx]\n",
    "\n",
    "    # CALCULATE THE VALUES FOR ENSEMBLING MODELS\n",
    "    row_sums = perf.sum(axis=1)\n",
    "    perf_norm = perf / row_sums[:, np.newaxis]\n",
    "    ens_perf = np.sum(target * perf_norm, axis=1)\n",
    "\n",
    "    # THIS IS THE BEST ACTUAL MODEL\n",
    "    # CALCULATED AS THE MAXIMUM OF THE ACTUAL PERFORMANCES\n",
    "    # BEST ACTUAL MODEL = BAM\n",
    "    target_perf = target.to_numpy()\n",
    "    bam_idx = np.argmax(target_perf, axis=1)\n",
    "    bam_perf = target_perf[np.arange(testvalues.shape[0]), bam_idx]\n",
    "    \n",
    "    # CREATE OUTPUT STRUCTURE\n",
    "    output = np.where(rn < threshold, ens_perf, bam_perf)\n",
    "\n",
    "    return output"
   ]
  },
  {
   "cell_type": "code",
   "execution_count": 25,
   "metadata": {},
   "outputs": [
    {
     "data": {
      "text/plain": [
       "Text(0, 0.5, 'NNSE')"
      ]
     },
     "execution_count": 25,
     "metadata": {},
     "output_type": "execute_result"
    },
    {
     "data": {
      "image/png": "[encoded data removed]",
      "text/plain": [
       "<Figure size 432x288 with 1 Axes>"
      ]
     },
     "metadata": {
      "needs_background": "light"
     },
     "output_type": "display_data"
    }
   ],
   "source": [
    "# ACTUAL MODEL PERFORMANCE = AMP\n",
    "amp = target.to_numpy()\n",
    "cfe = amp[:, 0]\n",
    "lstm = amp[:, 1]\n",
    "bestpred = amp[np.arange(amp.shape[0]), bpm_idx]\n",
    "ensemble = ensemblePerf(testvalues, target, threshold=0.05)\n",
    "bestmodel = bam_perf\n",
    "plt.boxplot([cfe, lstm, bestpred, ensemble, bestmodel], labels=[\"CFE\", \"LSTM\", \"TOP PREDICTION\", \"ENSEMBLED\", \"BEST MODEL\"])\n",
    "plt.ylabel(\"NNSE\")"
   ]
  },
  {
   "cell_type": "code",
   "execution_count": 27,
   "metadata": {},
   "outputs": [
    {
     "data": {
      "text/plain": [
       "Text(0, 0.5, 'NNSE')"
      ]
     },
     "execution_count": 27,
     "metadata": {},
     "output_type": "execute_result"
    },
    {
     "data": {
      "image/png": "[encoded data removed]",
      "text/plain": [
       "<Figure size 432x288 with 1 Axes>"
      ]
     },
     "metadata": {
      "needs_background": "light"
     },
     "output_type": "display_data"
    }
   ],
   "source": [
    "# ACTUAL MODEL PERFORMANCE = AMP\n",
    "amp = target.to_numpy()\n",
    "cfe = amp[:, 0]\n",
    "lstm = amp[:, 1]\n",
    "bestpred = amp[np.arange(amp.shape[0]), bpm_idx]\n",
    "ensemble = ensemblePerf(testvalues, target, threshold=0.02)\n",
    "bestmodel = bam_perf\n",
    "\n",
    "plt.boxplot([cfe, lstm, bestpred, ensemble, bestmodel], labels=[\"CFE\", \"LSTM\", \"TOP PREDICTION\", \"ENSEMBLED\", \"BEST MODEL\"])\n",
    "plt.ylabel(\"NNSE\")"
   ]
  },
  {
   "cell_type": "code",
   "execution_count": 29,
   "metadata": {},
   "outputs": [
    {
     "name": "stdout",
     "output_type": "stream",
     "text": [
      "[-0.32075337  0.44478516  0.55759623  0.63957011  0.85139258  0.52642402]\n",
      "[0.00974678 0.60135387 0.69821297 0.75681638 0.88147345 0.6533368 ]\n",
      "[0.00974678 0.59812787 0.69357094 0.75488879 0.88147345 0.64815856]\n",
      "[0.01784125 0.606456   0.70044689 0.75785608 0.88147345 0.66478423]\n",
      "[0.01784125 0.6114751  0.70338046 0.76036236 0.88147345 0.66823445]\n"
     ]
    }
   ],
   "source": [
    "def summarize(a, perc=[0, 25, 50, 75, 100]):\n",
    "    p = np.nanpercentile(a, perc)\n",
    "    p = np.append(p, np.nanmean(a))\n",
    "    return p\n",
    "\n",
    "outp = [cfe, lstm, bestpred, ensemble, bestmodel]\n",
    "\n",
    "for i in outp:\n",
    "    print(summarize(i))"
   ]
  }
 ],
 "metadata": {
  "kernelspec": {
   "display_name": "Python 3.8.13 ('SIMain')",
   "language": "python",
   "name": "python3"
  },
  "language_info": {
   "codemirror_mode": {
    "name": "ipython",
    "version": 3
   },
   "file_extension": ".py",
   "mimetype": "text/x-python",
   "name": "python",
   "nbconvert_exporter": "python",
   "pygments_lexer": "ipython3",
   "version": "3.8.13"
  },
  "orig_nbformat": 4,
  "vscode": {
   "interpreter": {
    "hash": "e3da41878a6e59ef736c25538e11437523ef619f5ac67d4376382125c98d5ac3"
   }
  }
 },
 "nbformat": 4,
 "nbformat_minor": 2
}
